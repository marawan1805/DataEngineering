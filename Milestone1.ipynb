{
  "nbformat": 4,
  "nbformat_minor": 0,
  "metadata": {
    "colab": {
      "provenance": [],
      "authorship_tag": "ABX9TyNACSMZ6uSPQ/nj4sh3ly+U",
      "include_colab_link": true
    },
    "kernelspec": {
      "name": "python3",
      "display_name": "Python 3"
    },
    "language_info": {
      "name": "python"
    }
  },
  "cells": [
    {
      "cell_type": "markdown",
      "metadata": {
        "id": "view-in-github",
        "colab_type": "text"
      },
      "source": [
        "<a href=\"https://colab.research.google.com/github/marawan1805/DataEngineering/blob/main/Milestone1.ipynb\" target=\"_parent\"><img src=\"https://colab.research.google.com/assets/colab-badge.svg\" alt=\"Open In Colab\"/></a>"
      ]
    },
    {
      "cell_type": "code",
      "execution_count": 2,
      "metadata": {
        "id": "WggBpZuM3d5X"
      },
      "outputs": [],
      "source": [
        "import pandas as pd \n",
        "import numpy as np\n",
        "import os\n",
        "import matplotlib.pyplot as plt\n",
        "import seaborn as sns"
      ]
    },
    {
      "cell_type": "code",
      "source": [
        "df = pd.read_csv('/content/Car_sale_ads.csv')\n",
        "df.head(3)"
      ],
      "metadata": {
        "colab": {
          "base_uri": "https://localhost:8080/",
          "height": 445
        },
        "id": "NWysl_BE6-a4",
        "outputId": "badbbd28-9843-4713-edd2-50f95a2c6a2b"
      },
      "execution_count": 3,
      "outputs": [
        {
          "output_type": "execute_result",
          "data": {
            "text/plain": [
              "   Index  Price Currency Condition Vehicle_brand Vehicle_model  \\\n",
              "0      0  86200      PLN       New        Abarth           595   \n",
              "1      1  43500      PLN      Used        Abarth         Other   \n",
              "2      2  44900      PLN      Used        Abarth           500   \n",
              "\n",
              "  Vehicle_version Vehicle_generation  Production_year  Mileage_km  ...  \\\n",
              "0             NaN                NaN             2021         1.0  ...   \n",
              "1             NaN                NaN             1974     59000.0  ...   \n",
              "2             NaN                NaN             2018     52000.0  ...   \n",
              "\n",
              "   Transmission        Type Doors_number  Colour Origin_country First_owner  \\\n",
              "0        Manual  small_cars          3.0    gray            NaN         NaN   \n",
              "1        Manual       coupe          2.0  silver            NaN         NaN   \n",
              "2     Automatic  small_cars          3.0  silver            NaN         NaN   \n",
              "\n",
              "  First_registration_date  Offer_publication_date  \\\n",
              "0                     NaN              04/05/2021   \n",
              "1                     NaN              03/05/2021   \n",
              "2                     NaN              03/05/2021   \n",
              "\n",
              "                                      Offer_location  \\\n",
              "0  ul. Jubilerska 6 - 04-190 Warszawa, Mazowiecki...   \n",
              "1  kanonierska12 - 04-425 Warszawa, Rembertów (Po...   \n",
              "2                   Warszawa, Mazowieckie, Białołęka   \n",
              "\n",
              "                                            Features  \n",
              "0                                                 []  \n",
              "1                                                 []  \n",
              "2  ['ABS', 'Electric front windows', 'Drivers air...  \n",
              "\n",
              "[3 rows x 25 columns]"
            ],
            "text/html": [
              "\n",
              "  <div id=\"df-55aca92e-e81c-469c-bdc1-e56a656284de\">\n",
              "    <div class=\"colab-df-container\">\n",
              "      <div>\n",
              "<style scoped>\n",
              "    .dataframe tbody tr th:only-of-type {\n",
              "        vertical-align: middle;\n",
              "    }\n",
              "\n",
              "    .dataframe tbody tr th {\n",
              "        vertical-align: top;\n",
              "    }\n",
              "\n",
              "    .dataframe thead th {\n",
              "        text-align: right;\n",
              "    }\n",
              "</style>\n",
              "<table border=\"1\" class=\"dataframe\">\n",
              "  <thead>\n",
              "    <tr style=\"text-align: right;\">\n",
              "      <th></th>\n",
              "      <th>Index</th>\n",
              "      <th>Price</th>\n",
              "      <th>Currency</th>\n",
              "      <th>Condition</th>\n",
              "      <th>Vehicle_brand</th>\n",
              "      <th>Vehicle_model</th>\n",
              "      <th>Vehicle_version</th>\n",
              "      <th>Vehicle_generation</th>\n",
              "      <th>Production_year</th>\n",
              "      <th>Mileage_km</th>\n",
              "      <th>...</th>\n",
              "      <th>Transmission</th>\n",
              "      <th>Type</th>\n",
              "      <th>Doors_number</th>\n",
              "      <th>Colour</th>\n",
              "      <th>Origin_country</th>\n",
              "      <th>First_owner</th>\n",
              "      <th>First_registration_date</th>\n",
              "      <th>Offer_publication_date</th>\n",
              "      <th>Offer_location</th>\n",
              "      <th>Features</th>\n",
              "    </tr>\n",
              "  </thead>\n",
              "  <tbody>\n",
              "    <tr>\n",
              "      <th>0</th>\n",
              "      <td>0</td>\n",
              "      <td>86200</td>\n",
              "      <td>PLN</td>\n",
              "      <td>New</td>\n",
              "      <td>Abarth</td>\n",
              "      <td>595</td>\n",
              "      <td>NaN</td>\n",
              "      <td>NaN</td>\n",
              "      <td>2021</td>\n",
              "      <td>1.0</td>\n",
              "      <td>...</td>\n",
              "      <td>Manual</td>\n",
              "      <td>small_cars</td>\n",
              "      <td>3.0</td>\n",
              "      <td>gray</td>\n",
              "      <td>NaN</td>\n",
              "      <td>NaN</td>\n",
              "      <td>NaN</td>\n",
              "      <td>04/05/2021</td>\n",
              "      <td>ul. Jubilerska 6 - 04-190 Warszawa, Mazowiecki...</td>\n",
              "      <td>[]</td>\n",
              "    </tr>\n",
              "    <tr>\n",
              "      <th>1</th>\n",
              "      <td>1</td>\n",
              "      <td>43500</td>\n",
              "      <td>PLN</td>\n",
              "      <td>Used</td>\n",
              "      <td>Abarth</td>\n",
              "      <td>Other</td>\n",
              "      <td>NaN</td>\n",
              "      <td>NaN</td>\n",
              "      <td>1974</td>\n",
              "      <td>59000.0</td>\n",
              "      <td>...</td>\n",
              "      <td>Manual</td>\n",
              "      <td>coupe</td>\n",
              "      <td>2.0</td>\n",
              "      <td>silver</td>\n",
              "      <td>NaN</td>\n",
              "      <td>NaN</td>\n",
              "      <td>NaN</td>\n",
              "      <td>03/05/2021</td>\n",
              "      <td>kanonierska12 - 04-425 Warszawa, Rembertów (Po...</td>\n",
              "      <td>[]</td>\n",
              "    </tr>\n",
              "    <tr>\n",
              "      <th>2</th>\n",
              "      <td>2</td>\n",
              "      <td>44900</td>\n",
              "      <td>PLN</td>\n",
              "      <td>Used</td>\n",
              "      <td>Abarth</td>\n",
              "      <td>500</td>\n",
              "      <td>NaN</td>\n",
              "      <td>NaN</td>\n",
              "      <td>2018</td>\n",
              "      <td>52000.0</td>\n",
              "      <td>...</td>\n",
              "      <td>Automatic</td>\n",
              "      <td>small_cars</td>\n",
              "      <td>3.0</td>\n",
              "      <td>silver</td>\n",
              "      <td>NaN</td>\n",
              "      <td>NaN</td>\n",
              "      <td>NaN</td>\n",
              "      <td>03/05/2021</td>\n",
              "      <td>Warszawa, Mazowieckie, Białołęka</td>\n",
              "      <td>['ABS', 'Electric front windows', 'Drivers air...</td>\n",
              "    </tr>\n",
              "  </tbody>\n",
              "</table>\n",
              "<p>3 rows × 25 columns</p>\n",
              "</div>\n",
              "      <button class=\"colab-df-convert\" onclick=\"convertToInteractive('df-55aca92e-e81c-469c-bdc1-e56a656284de')\"\n",
              "              title=\"Convert this dataframe to an interactive table.\"\n",
              "              style=\"display:none;\">\n",
              "        \n",
              "  <svg xmlns=\"http://www.w3.org/2000/svg\" height=\"24px\"viewBox=\"0 0 24 24\"\n",
              "       width=\"24px\">\n",
              "    <path d=\"M0 0h24v24H0V0z\" fill=\"none\"/>\n",
              "    <path d=\"M18.56 5.44l.94 2.06.94-2.06 2.06-.94-2.06-.94-.94-2.06-.94 2.06-2.06.94zm-11 1L8.5 8.5l.94-2.06 2.06-.94-2.06-.94L8.5 2.5l-.94 2.06-2.06.94zm10 10l.94 2.06.94-2.06 2.06-.94-2.06-.94-.94-2.06-.94 2.06-2.06.94z\"/><path d=\"M17.41 7.96l-1.37-1.37c-.4-.4-.92-.59-1.43-.59-.52 0-1.04.2-1.43.59L10.3 9.45l-7.72 7.72c-.78.78-.78 2.05 0 2.83L4 21.41c.39.39.9.59 1.41.59.51 0 1.02-.2 1.41-.59l7.78-7.78 2.81-2.81c.8-.78.8-2.07 0-2.86zM5.41 20L4 18.59l7.72-7.72 1.47 1.35L5.41 20z\"/>\n",
              "  </svg>\n",
              "      </button>\n",
              "      \n",
              "  <style>\n",
              "    .colab-df-container {\n",
              "      display:flex;\n",
              "      flex-wrap:wrap;\n",
              "      gap: 12px;\n",
              "    }\n",
              "\n",
              "    .colab-df-convert {\n",
              "      background-color: #E8F0FE;\n",
              "      border: none;\n",
              "      border-radius: 50%;\n",
              "      cursor: pointer;\n",
              "      display: none;\n",
              "      fill: #1967D2;\n",
              "      height: 32px;\n",
              "      padding: 0 0 0 0;\n",
              "      width: 32px;\n",
              "    }\n",
              "\n",
              "    .colab-df-convert:hover {\n",
              "      background-color: #E2EBFA;\n",
              "      box-shadow: 0px 1px 2px rgba(60, 64, 67, 0.3), 0px 1px 3px 1px rgba(60, 64, 67, 0.15);\n",
              "      fill: #174EA6;\n",
              "    }\n",
              "\n",
              "    [theme=dark] .colab-df-convert {\n",
              "      background-color: #3B4455;\n",
              "      fill: #D2E3FC;\n",
              "    }\n",
              "\n",
              "    [theme=dark] .colab-df-convert:hover {\n",
              "      background-color: #434B5C;\n",
              "      box-shadow: 0px 1px 3px 1px rgba(0, 0, 0, 0.15);\n",
              "      filter: drop-shadow(0px 1px 2px rgba(0, 0, 0, 0.3));\n",
              "      fill: #FFFFFF;\n",
              "    }\n",
              "  </style>\n",
              "\n",
              "      <script>\n",
              "        const buttonEl =\n",
              "          document.querySelector('#df-55aca92e-e81c-469c-bdc1-e56a656284de button.colab-df-convert');\n",
              "        buttonEl.style.display =\n",
              "          google.colab.kernel.accessAllowed ? 'block' : 'none';\n",
              "\n",
              "        async function convertToInteractive(key) {\n",
              "          const element = document.querySelector('#df-55aca92e-e81c-469c-bdc1-e56a656284de');\n",
              "          const dataTable =\n",
              "            await google.colab.kernel.invokeFunction('convertToInteractive',\n",
              "                                                     [key], {});\n",
              "          if (!dataTable) return;\n",
              "\n",
              "          const docLinkHtml = 'Like what you see? Visit the ' +\n",
              "            '<a target=\"_blank\" href=https://colab.research.google.com/notebooks/data_table.ipynb>data table notebook</a>'\n",
              "            + ' to learn more about interactive tables.';\n",
              "          element.innerHTML = '';\n",
              "          dataTable['output_type'] = 'display_data';\n",
              "          await google.colab.output.renderOutput(dataTable, element);\n",
              "          const docLink = document.createElement('div');\n",
              "          docLink.innerHTML = docLinkHtml;\n",
              "          element.appendChild(docLink);\n",
              "        }\n",
              "      </script>\n",
              "    </div>\n",
              "  </div>\n",
              "  "
            ]
          },
          "metadata": {},
          "execution_count": 3
        }
      ]
    },
    {
      "cell_type": "markdown",
      "source": [
        "**Data Cleaning**"
      ],
      "metadata": {
        "id": "NjjtttruPsx3"
      }
    },
    {
      "cell_type": "code",
      "source": [
        "#when we used the df.isnull().sum() function we found that these following columns had too many missing values \n",
        "# and needed to be droped\n",
        "\n",
        "df.drop('Vehicle_version' , axis = 1 , inplace = True)\n",
        "df.drop('Vehicle_generation' , axis = 1 , inplace = True)\n",
        "df.drop('CO2_emissions' , axis = 1  , inplace = True)\n",
        "df.drop('Drive' , axis = 1 ,  inplace = True)\n",
        "df.drop('Origin_country' , axis = 1 , inplace = True)\n",
        "df.drop('First_owner' , axis = 1 , inplace = True)\n",
        "df.drop('First_registration_date' , axis = 1 , inplace = True)\n",
        "\n"
      ],
      "metadata": {
        "id": "NiAXtF0A7uZy"
      },
      "execution_count": 6,
      "outputs": []
    },
    {
      "cell_type": "code",
      "source": [
        "# here the columns with missing values have to be delt with by using imputations that are done below \n",
        "df.isnull().sum()"
      ],
      "metadata": {
        "colab": {
          "base_uri": "https://localhost:8080/"
        },
        "id": "zSUXJjsP7Dx9",
        "outputId": "b0b61b17-c7c0-4e87-ddb7-ab8a7923f4c0"
      },
      "execution_count": 7,
      "outputs": [
        {
          "output_type": "execute_result",
          "data": {
            "text/plain": [
              "Index                        0\n",
              "Price                        0\n",
              "Currency                     0\n",
              "Condition                    0\n",
              "Vehicle_brand                0\n",
              "Vehicle_model                0\n",
              "Production_year              0\n",
              "Mileage_km                 983\n",
              "Power_HP                   643\n",
              "Displacement_cm3          1966\n",
              "Fuel_type                    0\n",
              "Transmission               479\n",
              "Type                         0\n",
              "Doors_number              1487\n",
              "Colour                       0\n",
              "Offer_publication_date       0\n",
              "Offer_location               0\n",
              "Features                     0\n",
              "dtype: int64"
            ]
          },
          "metadata": {},
          "execution_count": 7
        }
      ]
    },
    {
      "cell_type": "markdown",
      "source": [
        "**Detecting and Removing Outliers**"
      ],
      "metadata": {
        "id": "qgNoIrTmP6Qh"
      }
    },
    {
      "cell_type": "code",
      "source": [
        "#box-plot before removing outliers\n",
        "sns.boxplot(x=df['Power_HP'])"
      ],
      "metadata": {
        "colab": {
          "base_uri": "https://localhost:8080/",
          "height": 297
        },
        "id": "cNdEiGu1Jds_",
        "outputId": "2fb69bbb-4f85-493a-f2ec-050607f825b7"
      },
      "execution_count": 9,
      "outputs": [
        {
          "output_type": "execute_result",
          "data": {
            "text/plain": [
              "<matplotlib.axes._subplots.AxesSubplot at 0x7ff1b3a7f710>"
            ]
          },
          "metadata": {},
          "execution_count": 9
        },
        {
          "output_type": "display_data",
          "data": {
            "text/plain": [
              "<Figure size 432x288 with 1 Axes>"
            ],
            "image/png": "[encoded data removed]"
          },
          "metadata": {
            "needs_background": "light"
          }
        }
      ]
    },
    {
      "cell_type": "code",
      "source": [
        "Q1 = df['Power_HP'].quantile(0.25)\n",
        "Q3 = df['Power_HP'].quantile(0.75)\n",
        "IQR = Q3 - Q1\n",
        "print(IQR)"
      ],
      "metadata": {
        "colab": {
          "base_uri": "https://localhost:8080/"
        },
        "id": "qWw9lGc5KB2z",
        "outputId": "823ed3f0-7832-4e53-9aac-b367838123ea"
      },
      "execution_count": 10,
      "outputs": [
        {
          "output_type": "stream",
          "name": "stdout",
          "text": [
            "67.0\n"
          ]
        }
      ]
    },
    {
      "cell_type": "code",
      "source": [
        "arr_1 = df['Power_HP'] < (Q1 - 1.5 * IQR)\n",
        "arr_2 = df['Power_HP'] > (Q3 + 1.5 * IQR)\n",
        "mask = (arr_1 | arr_2)"
      ],
      "metadata": {
        "id": "iDliA2bpKz6Q"
      },
      "execution_count": 11,
      "outputs": []
    },
    {
      "cell_type": "code",
      "source": [
        "print(\"No. of outliers: \", mask.sum())\n"
      ],
      "metadata": {
        "colab": {
          "base_uri": "https://localhost:8080/"
        },
        "id": "0jMvow8vK7z1",
        "outputId": "b84ac44e-995f-4b86-cf10-2495edb58500"
      },
      "execution_count": 12,
      "outputs": [
        {
          "output_type": "stream",
          "name": "stdout",
          "text": [
            "No. of outliers:  14090\n"
          ]
        }
      ]
    },
    {
      "cell_type": "code",
      "source": [
        "#Removing the outliers\n",
        "df = df[~(mask)]\n",
        "df"
      ],
      "metadata": {
        "colab": {
          "base_uri": "https://localhost:8080/",
          "height": 1000
        },
        "id": "9wqvaNxbLBZ4",
        "outputId": "ddc65a9f-5b19-46f2-ef2b-4de63423f511"
      },
      "execution_count": 14,
      "outputs": [
        {
          "output_type": "execute_result",
          "data": {
            "text/plain": [
              "         Index  Price Currency Condition Vehicle_brand Vehicle_model  \\\n",
              "0            0  86200      PLN       New        Abarth           595   \n",
              "1            1  43500      PLN      Used        Abarth         Other   \n",
              "2            2  44900      PLN      Used        Abarth           500   \n",
              "3            3  39900      PLN      Used        Abarth           500   \n",
              "4            4  97900      PLN       New        Abarth           595   \n",
              "...        ...    ...      ...       ...           ...           ...   \n",
              "208299  208299  39900      PLN      Used           Żuk         Other   \n",
              "208300  208300  10900      PLN      Used           Żuk         Other   \n",
              "208301  208301   6900      PLN      Used           Żuk         Other   \n",
              "208302  208302   5700      PLN      Used           Żuk         Other   \n",
              "208303  208303  11900      PLN      Used           Żuk         Other   \n",
              "\n",
              "        Production_year  Mileage_km  Power_HP  Displacement_cm3 Fuel_type  \\\n",
              "0                  2021         1.0     145.0            1400.0  Gasoline   \n",
              "1                  1974     59000.0      75.0            1100.0  Gasoline   \n",
              "2                  2018     52000.0     180.0            1368.0  Gasoline   \n",
              "3                  2012     29000.0     160.0            1368.0  Gasoline   \n",
              "4                  2021       600.0     165.0            1368.0  Gasoline   \n",
              "...                 ...         ...       ...               ...       ...   \n",
              "208299             2014     40000.0     173.0            1301.0  Gasoline   \n",
              "208300             1970     63518.0      70.0            2120.0  Gasoline   \n",
              "208301             1977     11880.0      60.0            2120.0  Gasoline   \n",
              "208302             1986    100000.0      36.0            2200.0  Gasoline   \n",
              "208303             1985     20056.0      70.0            2120.0  Gasoline   \n",
              "\n",
              "       Transmission           Type  Doors_number  Colour  \\\n",
              "0            Manual     small_cars           3.0    gray   \n",
              "1            Manual          coupe           2.0  silver   \n",
              "2         Automatic     small_cars           3.0  silver   \n",
              "3            Manual     small_cars           3.0    gray   \n",
              "4            Manual     small_cars           3.0    blue   \n",
              "...             ...            ...           ...     ...   \n",
              "208299       Manual     small_cars           1.0   other   \n",
              "208300       Manual  station_wagon           4.0   other   \n",
              "208301       Manual            SUV           3.0     red   \n",
              "208302       Manual        minivan           2.0    blue   \n",
              "208303       Manual        minivan           3.0     red   \n",
              "\n",
              "       Offer_publication_date  \\\n",
              "0                  04/05/2021   \n",
              "1                  03/05/2021   \n",
              "2                  03/05/2021   \n",
              "3                  30/04/2021   \n",
              "4                  30/04/2021   \n",
              "...                       ...   \n",
              "208299             30/04/2021   \n",
              "208300             02/05/2021   \n",
              "208301             28/04/2021   \n",
              "208302             24/04/2021   \n",
              "208303             04/05/2021   \n",
              "\n",
              "                                           Offer_location  \\\n",
              "0       ul. Jubilerska 6 - 04-190 Warszawa, Mazowiecki...   \n",
              "1       kanonierska12 - 04-425 Warszawa, Rembertów (Po...   \n",
              "2                        Warszawa, Mazowieckie, Białołęka   \n",
              "3                                       Jaworzno, Śląskie   \n",
              "4       ul. Gorzysława 9 - 61-057 Poznań, Nowe Miasto ...   \n",
              "...                                                   ...   \n",
              "208299  ul. Huzarska 12 - 47-400 Racibórz, raciborski,...   \n",
              "208300                      Włocławek, Kujawsko-pomorskie   \n",
              "208301                   Złotów, złotowski, Wielkopolskie   \n",
              "208302                  Kraczkowa, łańcucki, Podkarpackie   \n",
              "208303  Szczecińska 40 - 75-137 Koszalin, Zachodniopom...   \n",
              "\n",
              "                                                 Features  \n",
              "0                                                      []  \n",
              "1                                                      []  \n",
              "2       ['ABS', 'Electric front windows', 'Drivers air...  \n",
              "3       ['ABS', 'Electric front windows', 'Drivers air...  \n",
              "4       ['ABS', 'Electrically adjustable mirrors', 'Pa...  \n",
              "...                                                   ...  \n",
              "208299                                                 []  \n",
              "208300                                                 []  \n",
              "208301                                                 []  \n",
              "208302                                                 []  \n",
              "208303                                                 []  \n",
              "\n",
              "[194214 rows x 18 columns]"
            ],
            "text/html": [
              "\n",
              "  <div id=\"df-3dd23be2-ea34-43df-8f5a-096aef7a64e4\">\n",
              "    <div class=\"colab-df-container\">\n",
              "      <div>\n",
              "<style scoped>\n",
              "    .dataframe tbody tr th:only-of-type {\n",
              "        vertical-align: middle;\n",
              "    }\n",
              "\n",
              "    .dataframe tbody tr th {\n",
              "        vertical-align: top;\n",
              "    }\n",
              "\n",
              "    .dataframe thead th {\n",
              "        text-align: right;\n",
              "    }\n",
              "</style>\n",
              "<table border=\"1\" class=\"dataframe\">\n",
              "  <thead>\n",
              "    <tr style=\"text-align: right;\">\n",
              "      <th></th>\n",
              "      <th>Index</th>\n",
              "      <th>Price</th>\n",
              "      <th>Currency</th>\n",
              "      <th>Condition</th>\n",
              "      <th>Vehicle_brand</th>\n",
              "      <th>Vehicle_model</th>\n",
              "      <th>Production_year</th>\n",
              "      <th>Mileage_km</th>\n",
              "      <th>Power_HP</th>\n",
              "      <th>Displacement_cm3</th>\n",
              "      <th>Fuel_type</th>\n",
              "      <th>Transmission</th>\n",
              "      <th>Type</th>\n",
              "      <th>Doors_number</th>\n",
              "      <th>Colour</th>\n",
              "      <th>Offer_publication_date</th>\n",
              "      <th>Offer_location</th>\n",
              "      <th>Features</th>\n",
              "    </tr>\n",
              "  </thead>\n",
              "  <tbody>\n",
              "    <tr>\n",
              "      <th>0</th>\n",
              "      <td>0</td>\n",
              "      <td>86200</td>\n",
              "      <td>PLN</td>\n",
              "      <td>New</td>\n",
              "      <td>Abarth</td>\n",
              "      <td>595</td>\n",
              "      <td>2021</td>\n",
              "      <td>1.0</td>\n",
              "      <td>145.0</td>\n",
              "      <td>1400.0</td>\n",
              "      <td>Gasoline</td>\n",
              "      <td>Manual</td>\n",
              "      <td>small_cars</td>\n",
              "      <td>3.0</td>\n",
              "      <td>gray</td>\n",
              "      <td>04/05/2021</td>\n",
              "      <td>ul. Jubilerska 6 - 04-190 Warszawa, Mazowiecki...</td>\n",
              "      <td>[]</td>\n",
              "    </tr>\n",
              "    <tr>\n",
              "      <th>1</th>\n",
              "      <td>1</td>\n",
              "      <td>43500</td>\n",
              "      <td>PLN</td>\n",
              "      <td>Used</td>\n",
              "      <td>Abarth</td>\n",
              "      <td>Other</td>\n",
              "      <td>1974</td>\n",
              "      <td>59000.0</td>\n",
              "      <td>75.0</td>\n",
              "      <td>1100.0</td>\n",
              "      <td>Gasoline</td>\n",
              "      <td>Manual</td>\n",
              "      <td>coupe</td>\n",
              "      <td>2.0</td>\n",
              "      <td>silver</td>\n",
              "      <td>03/05/2021</td>\n",
              "      <td>kanonierska12 - 04-425 Warszawa, Rembertów (Po...</td>\n",
              "      <td>[]</td>\n",
              "    </tr>\n",
              "    <tr>\n",
              "      <th>2</th>\n",
              "      <td>2</td>\n",
              "      <td>44900</td>\n",
              "      <td>PLN</td>\n",
              "      <td>Used</td>\n",
              "      <td>Abarth</td>\n",
              "      <td>500</td>\n",
              "      <td>2018</td>\n",
              "      <td>52000.0</td>\n",
              "      <td>180.0</td>\n",
              "      <td>1368.0</td>\n",
              "      <td>Gasoline</td>\n",
              "      <td>Automatic</td>\n",
              "      <td>small_cars</td>\n",
              "      <td>3.0</td>\n",
              "      <td>silver</td>\n",
              "      <td>03/05/2021</td>\n",
              "      <td>Warszawa, Mazowieckie, Białołęka</td>\n",
              "      <td>['ABS', 'Electric front windows', 'Drivers air...</td>\n",
              "    </tr>\n",
              "    <tr>\n",
              "      <th>3</th>\n",
              "      <td>3</td>\n",
              "      <td>39900</td>\n",
              "      <td>PLN</td>\n",
              "      <td>Used</td>\n",
              "      <td>Abarth</td>\n",
              "      <td>500</td>\n",
              "      <td>2012</td>\n",
              "      <td>29000.0</td>\n",
              "      <td>160.0</td>\n",
              "      <td>1368.0</td>\n",
              "      <td>Gasoline</td>\n",
              "      <td>Manual</td>\n",
              "      <td>small_cars</td>\n",
              "      <td>3.0</td>\n",
              "      <td>gray</td>\n",
              "      <td>30/04/2021</td>\n",
              "      <td>Jaworzno, Śląskie</td>\n",
              "      <td>['ABS', 'Electric front windows', 'Drivers air...</td>\n",
              "    </tr>\n",
              "    <tr>\n",
              "      <th>4</th>\n",
              "      <td>4</td>\n",
              "      <td>97900</td>\n",
              "      <td>PLN</td>\n",
              "      <td>New</td>\n",
              "      <td>Abarth</td>\n",
              "      <td>595</td>\n",
              "      <td>2021</td>\n",
              "      <td>600.0</td>\n",
              "      <td>165.0</td>\n",
              "      <td>1368.0</td>\n",
              "      <td>Gasoline</td>\n",
              "      <td>Manual</td>\n",
              "      <td>small_cars</td>\n",
              "      <td>3.0</td>\n",
              "      <td>blue</td>\n",
              "      <td>30/04/2021</td>\n",
              "      <td>ul. Gorzysława 9 - 61-057 Poznań, Nowe Miasto ...</td>\n",
              "      <td>['ABS', 'Electrically adjustable mirrors', 'Pa...</td>\n",
              "    </tr>\n",
              "    <tr>\n",
              "      <th>...</th>\n",
              "      <td>...</td>\n",
              "      <td>...</td>\n",
              "      <td>...</td>\n",
              "      <td>...</td>\n",
              "      <td>...</td>\n",
              "      <td>...</td>\n",
              "      <td>...</td>\n",
              "      <td>...</td>\n",
              "      <td>...</td>\n",
              "      <td>...</td>\n",
              "      <td>...</td>\n",
              "      <td>...</td>\n",
              "      <td>...</td>\n",
              "      <td>...</td>\n",
              "      <td>...</td>\n",
              "      <td>...</td>\n",
              "      <td>...</td>\n",
              "      <td>...</td>\n",
              "    </tr>\n",
              "    <tr>\n",
              "      <th>208299</th>\n",
              "      <td>208299</td>\n",
              "      <td>39900</td>\n",
              "      <td>PLN</td>\n",
              "      <td>Used</td>\n",
              "      <td>Żuk</td>\n",
              "      <td>Other</td>\n",
              "      <td>2014</td>\n",
              "      <td>40000.0</td>\n",
              "      <td>173.0</td>\n",
              "      <td>1301.0</td>\n",
              "      <td>Gasoline</td>\n",
              "      <td>Manual</td>\n",
              "      <td>small_cars</td>\n",
              "      <td>1.0</td>\n",
              "      <td>other</td>\n",
              "      <td>30/04/2021</td>\n",
              "      <td>ul. Huzarska 12 - 47-400 Racibórz, raciborski,...</td>\n",
              "      <td>[]</td>\n",
              "    </tr>\n",
              "    <tr>\n",
              "      <th>208300</th>\n",
              "      <td>208300</td>\n",
              "      <td>10900</td>\n",
              "      <td>PLN</td>\n",
              "      <td>Used</td>\n",
              "      <td>Żuk</td>\n",
              "      <td>Other</td>\n",
              "      <td>1970</td>\n",
              "      <td>63518.0</td>\n",
              "      <td>70.0</td>\n",
              "      <td>2120.0</td>\n",
              "      <td>Gasoline</td>\n",
              "      <td>Manual</td>\n",
              "      <td>station_wagon</td>\n",
              "      <td>4.0</td>\n",
              "      <td>other</td>\n",
              "      <td>02/05/2021</td>\n",
              "      <td>Włocławek, Kujawsko-pomorskie</td>\n",
              "      <td>[]</td>\n",
              "    </tr>\n",
              "    <tr>\n",
              "      <th>208301</th>\n",
              "      <td>208301</td>\n",
              "      <td>6900</td>\n",
              "      <td>PLN</td>\n",
              "      <td>Used</td>\n",
              "      <td>Żuk</td>\n",
              "      <td>Other</td>\n",
              "      <td>1977</td>\n",
              "      <td>11880.0</td>\n",
              "      <td>60.0</td>\n",
              "      <td>2120.0</td>\n",
              "      <td>Gasoline</td>\n",
              "      <td>Manual</td>\n",
              "      <td>SUV</td>\n",
              "      <td>3.0</td>\n",
              "      <td>red</td>\n",
              "      <td>28/04/2021</td>\n",
              "      <td>Złotów, złotowski, Wielkopolskie</td>\n",
              "      <td>[]</td>\n",
              "    </tr>\n",
              "    <tr>\n",
              "      <th>208302</th>\n",
              "      <td>208302</td>\n",
              "      <td>5700</td>\n",
              "      <td>PLN</td>\n",
              "      <td>Used</td>\n",
              "      <td>Żuk</td>\n",
              "      <td>Other</td>\n",
              "      <td>1986</td>\n",
              "      <td>100000.0</td>\n",
              "      <td>36.0</td>\n",
              "      <td>2200.0</td>\n",
              "      <td>Gasoline</td>\n",
              "      <td>Manual</td>\n",
              "      <td>minivan</td>\n",
              "      <td>2.0</td>\n",
              "      <td>blue</td>\n",
              "      <td>24/04/2021</td>\n",
              "      <td>Kraczkowa, łańcucki, Podkarpackie</td>\n",
              "      <td>[]</td>\n",
              "    </tr>\n",
              "    <tr>\n",
              "      <th>208303</th>\n",
              "      <td>208303</td>\n",
              "      <td>11900</td>\n",
              "      <td>PLN</td>\n",
              "      <td>Used</td>\n",
              "      <td>Żuk</td>\n",
              "      <td>Other</td>\n",
              "      <td>1985</td>\n",
              "      <td>20056.0</td>\n",
              "      <td>70.0</td>\n",
              "      <td>2120.0</td>\n",
              "      <td>Gasoline</td>\n",
              "      <td>Manual</td>\n",
              "      <td>minivan</td>\n",
              "      <td>3.0</td>\n",
              "      <td>red</td>\n",
              "      <td>04/05/2021</td>\n",
              "      <td>Szczecińska 40 - 75-137 Koszalin, Zachodniopom...</td>\n",
              "      <td>[]</td>\n",
              "    </tr>\n",
              "  </tbody>\n",
              "</table>\n",
              "<p>194214 rows × 18 columns</p>\n",
              "</div>\n",
              "      <button class=\"colab-df-convert\" onclick=\"convertToInteractive('df-3dd23be2-ea34-43df-8f5a-096aef7a64e4')\"\n",
              "              title=\"Convert this dataframe to an interactive table.\"\n",
              "              style=\"display:none;\">\n",
              "        \n",
              "  <svg xmlns=\"http://www.w3.org/2000/svg\" height=\"24px\"viewBox=\"0 0 24 24\"\n",
              "       width=\"24px\">\n",
              "    <path d=\"M0 0h24v24H0V0z\" fill=\"none\"/>\n",
              "    <path d=\"M18.56 5.44l.94 2.06.94-2.06 2.06-.94-2.06-.94-.94-2.06-.94 2.06-2.06.94zm-11 1L8.5 8.5l.94-2.06 2.06-.94-2.06-.94L8.5 2.5l-.94 2.06-2.06.94zm10 10l.94 2.06.94-2.06 2.06-.94-2.06-.94-.94-2.06-.94 2.06-2.06.94z\"/><path d=\"M17.41 7.96l-1.37-1.37c-.4-.4-.92-.59-1.43-.59-.52 0-1.04.2-1.43.59L10.3 9.45l-7.72 7.72c-.78.78-.78 2.05 0 2.83L4 21.41c.39.39.9.59 1.41.59.51 0 1.02-.2 1.41-.59l7.78-7.78 2.81-2.81c.8-.78.8-2.07 0-2.86zM5.41 20L4 18.59l7.72-7.72 1.47 1.35L5.41 20z\"/>\n",
              "  </svg>\n",
              "      </button>\n",
              "      \n",
              "  <style>\n",
              "    .colab-df-container {\n",
              "      display:flex;\n",
              "      flex-wrap:wrap;\n",
              "      gap: 12px;\n",
              "    }\n",
              "\n",
              "    .colab-df-convert {\n",
              "      background-color: #E8F0FE;\n",
              "      border: none;\n",
              "      border-radius: 50%;\n",
              "      cursor: pointer;\n",
              "      display: none;\n",
              "      fill: #1967D2;\n",
              "      height: 32px;\n",
              "      padding: 0 0 0 0;\n",
              "      width: 32px;\n",
              "    }\n",
              "\n",
              "    .colab-df-convert:hover {\n",
              "      background-color: #E2EBFA;\n",
              "      box-shadow: 0px 1px 2px rgba(60, 64, 67, 0.3), 0px 1px 3px 1px rgba(60, 64, 67, 0.15);\n",
              "      fill: #174EA6;\n",
              "    }\n",
              "\n",
              "    [theme=dark] .colab-df-convert {\n",
              "      background-color: #3B4455;\n",
              "      fill: #D2E3FC;\n",
              "    }\n",
              "\n",
              "    [theme=dark] .colab-df-convert:hover {\n",
              "      background-color: #434B5C;\n",
              "      box-shadow: 0px 1px 3px 1px rgba(0, 0, 0, 0.15);\n",
              "      filter: drop-shadow(0px 1px 2px rgba(0, 0, 0, 0.3));\n",
              "      fill: #FFFFFF;\n",
              "    }\n",
              "  </style>\n",
              "\n",
              "      <script>\n",
              "        const buttonEl =\n",
              "          document.querySelector('#df-3dd23be2-ea34-43df-8f5a-096aef7a64e4 button.colab-df-convert');\n",
              "        buttonEl.style.display =\n",
              "          google.colab.kernel.accessAllowed ? 'block' : 'none';\n",
              "\n",
              "        async function convertToInteractive(key) {\n",
              "          const element = document.querySelector('#df-3dd23be2-ea34-43df-8f5a-096aef7a64e4');\n",
              "          const dataTable =\n",
              "            await google.colab.kernel.invokeFunction('convertToInteractive',\n",
              "                                                     [key], {});\n",
              "          if (!dataTable) return;\n",
              "\n",
              "          const docLinkHtml = 'Like what you see? Visit the ' +\n",
              "            '<a target=\"_blank\" href=https://colab.research.google.com/notebooks/data_table.ipynb>data table notebook</a>'\n",
              "            + ' to learn more about interactive tables.';\n",
              "          element.innerHTML = '';\n",
              "          dataTable['output_type'] = 'display_data';\n",
              "          await google.colab.output.renderOutput(dataTable, element);\n",
              "          const docLink = document.createElement('div');\n",
              "          docLink.innerHTML = docLinkHtml;\n",
              "          element.appendChild(docLink);\n",
              "        }\n",
              "      </script>\n",
              "    </div>\n",
              "  </div>\n",
              "  "
            ]
          },
          "metadata": {},
          "execution_count": 14
        }
      ]
    },
    {
      "cell_type": "code",
      "source": [
        "#box-plot after removing outliers\n",
        "sns.boxplot(x=df['Power_HP'])"
      ],
      "metadata": {
        "colab": {
          "base_uri": "https://localhost:8080/",
          "height": 297
        },
        "id": "E1oWAXjoLsxh",
        "outputId": "108a18cf-e846-48fa-e2a9-8952e4b0a171"
      },
      "execution_count": 15,
      "outputs": [
        {
          "output_type": "execute_result",
          "data": {
            "text/plain": [
              "<matplotlib.axes._subplots.AxesSubplot at 0x7ff1b3845bd0>"
            ]
          },
          "metadata": {},
          "execution_count": 15
        },
        {
          "output_type": "display_data",
          "data": {
            "text/plain": [
              "<Figure size 432x288 with 1 Axes>"
            ],
            "image/png": "[encoded data removed]"
          },
          "metadata": {
            "needs_background": "light"
          }
        }
      ]
    },
    {
      "cell_type": "markdown",
      "source": [
        "*******************************************************"
      ],
      "metadata": {
        "id": "1qjfqtg2QJx5"
      }
    },
    {
      "cell_type": "code",
      "source": [
        "#box-plot before removing outliers\n",
        "sns.boxplot(x=df['Displacement_cm3'])\n"
      ],
      "metadata": {
        "colab": {
          "base_uri": "https://localhost:8080/",
          "height": 297
        },
        "id": "R82zdq3TMICb",
        "outputId": "4a8b774e-56c4-45e1-f789-6aa5aac5c43c"
      },
      "execution_count": 16,
      "outputs": [
        {
          "output_type": "execute_result",
          "data": {
            "text/plain": [
              "<matplotlib.axes._subplots.AxesSubplot at 0x7ff1b32b3650>"
            ]
          },
          "metadata": {},
          "execution_count": 16
        },
        {
          "output_type": "display_data",
          "data": {
            "text/plain": [
              "<Figure size 432x288 with 1 Axes>"
            ],
            "image/png": "[encoded data removed]"
          },
          "metadata": {
            "needs_background": "light"
          }
        }
      ]
    },
    {
      "cell_type": "code",
      "source": [
        "Q1 = df['Displacement_cm3'].quantile(0.25)\n",
        "Q3 = df['Displacement_cm3'].quantile(0.75)\n",
        "IQR = Q3 - Q1\n",
        "print(IQR)"
      ],
      "metadata": {
        "colab": {
          "base_uri": "https://localhost:8080/"
        },
        "id": "1iL-D6rWMXJu",
        "outputId": "1d3d8abb-16b6-4879-97a6-ef6b97f1043d"
      },
      "execution_count": 17,
      "outputs": [
        {
          "output_type": "stream",
          "name": "stdout",
          "text": [
            "573.0\n"
          ]
        }
      ]
    },
    {
      "cell_type": "code",
      "source": [
        "arr_1 = df['Displacement_cm3'] < (Q1 - 1.5 * IQR)\n",
        "arr_2 = df['Displacement_cm3'] > (Q3 + 1.5 * IQR)\n",
        "mask = (arr_1 | arr_2)"
      ],
      "metadata": {
        "id": "oYcdEpWEMep5"
      },
      "execution_count": 18,
      "outputs": []
    },
    {
      "cell_type": "code",
      "source": [
        "print(\"No. of outliers: \", mask.sum())\n"
      ],
      "metadata": {
        "colab": {
          "base_uri": "https://localhost:8080/"
        },
        "id": "vZr8Rsz6Mkxs",
        "outputId": "1ab00b73-5d2e-44b9-e23d-ea812d8f8552"
      },
      "execution_count": 19,
      "outputs": [
        {
          "output_type": "stream",
          "name": "stdout",
          "text": [
            "No. of outliers:  9205\n"
          ]
        }
      ]
    },
    {
      "cell_type": "code",
      "source": [
        "#Removing the outliers\n",
        "df = df[~(mask)]\n",
        "df"
      ],
      "metadata": {
        "colab": {
          "base_uri": "https://localhost:8080/",
          "height": 1000
        },
        "id": "Nea7ANiqMop7",
        "outputId": "2205b3a3-0a18-42f0-d79d-0db1ddcdc0ce"
      },
      "execution_count": 20,
      "outputs": [
        {
          "output_type": "execute_result",
          "data": {
            "text/plain": [
              "         Index  Price Currency Condition Vehicle_brand Vehicle_model  \\\n",
              "0            0  86200      PLN       New        Abarth           595   \n",
              "1            1  43500      PLN      Used        Abarth         Other   \n",
              "2            2  44900      PLN      Used        Abarth           500   \n",
              "3            3  39900      PLN      Used        Abarth           500   \n",
              "4            4  97900      PLN       New        Abarth           595   \n",
              "...        ...    ...      ...       ...           ...           ...   \n",
              "208299  208299  39900      PLN      Used           Żuk         Other   \n",
              "208300  208300  10900      PLN      Used           Żuk         Other   \n",
              "208301  208301   6900      PLN      Used           Żuk         Other   \n",
              "208302  208302   5700      PLN      Used           Żuk         Other   \n",
              "208303  208303  11900      PLN      Used           Żuk         Other   \n",
              "\n",
              "        Production_year  Mileage_km  Power_HP  Displacement_cm3 Fuel_type  \\\n",
              "0                  2021         1.0     145.0            1400.0  Gasoline   \n",
              "1                  1974     59000.0      75.0            1100.0  Gasoline   \n",
              "2                  2018     52000.0     180.0            1368.0  Gasoline   \n",
              "3                  2012     29000.0     160.0            1368.0  Gasoline   \n",
              "4                  2021       600.0     165.0            1368.0  Gasoline   \n",
              "...                 ...         ...       ...               ...       ...   \n",
              "208299             2014     40000.0     173.0            1301.0  Gasoline   \n",
              "208300             1970     63518.0      70.0            2120.0  Gasoline   \n",
              "208301             1977     11880.0      60.0            2120.0  Gasoline   \n",
              "208302             1986    100000.0      36.0            2200.0  Gasoline   \n",
              "208303             1985     20056.0      70.0            2120.0  Gasoline   \n",
              "\n",
              "       Transmission           Type  Doors_number  Colour  \\\n",
              "0            Manual     small_cars           3.0    gray   \n",
              "1            Manual          coupe           2.0  silver   \n",
              "2         Automatic     small_cars           3.0  silver   \n",
              "3            Manual     small_cars           3.0    gray   \n",
              "4            Manual     small_cars           3.0    blue   \n",
              "...             ...            ...           ...     ...   \n",
              "208299       Manual     small_cars           1.0   other   \n",
              "208300       Manual  station_wagon           4.0   other   \n",
              "208301       Manual            SUV           3.0     red   \n",
              "208302       Manual        minivan           2.0    blue   \n",
              "208303       Manual        minivan           3.0     red   \n",
              "\n",
              "       Offer_publication_date  \\\n",
              "0                  04/05/2021   \n",
              "1                  03/05/2021   \n",
              "2                  03/05/2021   \n",
              "3                  30/04/2021   \n",
              "4                  30/04/2021   \n",
              "...                       ...   \n",
              "208299             30/04/2021   \n",
              "208300             02/05/2021   \n",
              "208301             28/04/2021   \n",
              "208302             24/04/2021   \n",
              "208303             04/05/2021   \n",
              "\n",
              "                                           Offer_location  \\\n",
              "0       ul. Jubilerska 6 - 04-190 Warszawa, Mazowiecki...   \n",
              "1       kanonierska12 - 04-425 Warszawa, Rembertów (Po...   \n",
              "2                        Warszawa, Mazowieckie, Białołęka   \n",
              "3                                       Jaworzno, Śląskie   \n",
              "4       ul. Gorzysława 9 - 61-057 Poznań, Nowe Miasto ...   \n",
              "...                                                   ...   \n",
              "208299  ul. Huzarska 12 - 47-400 Racibórz, raciborski,...   \n",
              "208300                      Włocławek, Kujawsko-pomorskie   \n",
              "208301                   Złotów, złotowski, Wielkopolskie   \n",
              "208302                  Kraczkowa, łańcucki, Podkarpackie   \n",
              "208303  Szczecińska 40 - 75-137 Koszalin, Zachodniopom...   \n",
              "\n",
              "                                                 Features  \n",
              "0                                                      []  \n",
              "1                                                      []  \n",
              "2       ['ABS', 'Electric front windows', 'Drivers air...  \n",
              "3       ['ABS', 'Electric front windows', 'Drivers air...  \n",
              "4       ['ABS', 'Electrically adjustable mirrors', 'Pa...  \n",
              "...                                                   ...  \n",
              "208299                                                 []  \n",
              "208300                                                 []  \n",
              "208301                                                 []  \n",
              "208302                                                 []  \n",
              "208303                                                 []  \n",
              "\n",
              "[185009 rows x 18 columns]"
            ],
            "text/html": [
              "\n",
              "  <div id=\"df-14283b2b-d590-4864-b6cf-3c2e6b89d484\">\n",
              "    <div class=\"colab-df-container\">\n",
              "      <div>\n",
              "<style scoped>\n",
              "    .dataframe tbody tr th:only-of-type {\n",
              "        vertical-align: middle;\n",
              "    }\n",
              "\n",
              "    .dataframe tbody tr th {\n",
              "        vertical-align: top;\n",
              "    }\n",
              "\n",
              "    .dataframe thead th {\n",
              "        text-align: right;\n",
              "    }\n",
              "</style>\n",
              "<table border=\"1\" class=\"dataframe\">\n",
              "  <thead>\n",
              "    <tr style=\"text-align: right;\">\n",
              "      <th></th>\n",
              "      <th>Index</th>\n",
              "      <th>Price</th>\n",
              "      <th>Currency</th>\n",
              "      <th>Condition</th>\n",
              "      <th>Vehicle_brand</th>\n",
              "      <th>Vehicle_model</th>\n",
              "      <th>Production_year</th>\n",
              "      <th>Mileage_km</th>\n",
              "      <th>Power_HP</th>\n",
              "      <th>Displacement_cm3</th>\n",
              "      <th>Fuel_type</th>\n",
              "      <th>Transmission</th>\n",
              "      <th>Type</th>\n",
              "      <th>Doors_number</th>\n",
              "      <th>Colour</th>\n",
              "      <th>Offer_publication_date</th>\n",
              "      <th>Offer_location</th>\n",
              "      <th>Features</th>\n",
              "    </tr>\n",
              "  </thead>\n",
              "  <tbody>\n",
              "    <tr>\n",
              "      <th>0</th>\n",
              "      <td>0</td>\n",
              "      <td>86200</td>\n",
              "      <td>PLN</td>\n",
              "      <td>New</td>\n",
              "      <td>Abarth</td>\n",
              "      <td>595</td>\n",
              "      <td>2021</td>\n",
              "      <td>1.0</td>\n",
              "      <td>145.0</td>\n",
              "      <td>1400.0</td>\n",
              "      <td>Gasoline</td>\n",
              "      <td>Manual</td>\n",
              "      <td>small_cars</td>\n",
              "      <td>3.0</td>\n",
              "      <td>gray</td>\n",
              "      <td>04/05/2021</td>\n",
              "      <td>ul. Jubilerska 6 - 04-190 Warszawa, Mazowiecki...</td>\n",
              "      <td>[]</td>\n",
              "    </tr>\n",
              "    <tr>\n",
              "      <th>1</th>\n",
              "      <td>1</td>\n",
              "      <td>43500</td>\n",
              "      <td>PLN</td>\n",
              "      <td>Used</td>\n",
              "      <td>Abarth</td>\n",
              "      <td>Other</td>\n",
              "      <td>1974</td>\n",
              "      <td>59000.0</td>\n",
              "      <td>75.0</td>\n",
              "      <td>1100.0</td>\n",
              "      <td>Gasoline</td>\n",
              "      <td>Manual</td>\n",
              "      <td>coupe</td>\n",
              "      <td>2.0</td>\n",
              "      <td>silver</td>\n",
              "      <td>03/05/2021</td>\n",
              "      <td>kanonierska12 - 04-425 Warszawa, Rembertów (Po...</td>\n",
              "      <td>[]</td>\n",
              "    </tr>\n",
              "    <tr>\n",
              "      <th>2</th>\n",
              "      <td>2</td>\n",
              "      <td>44900</td>\n",
              "      <td>PLN</td>\n",
              "      <td>Used</td>\n",
              "      <td>Abarth</td>\n",
              "      <td>500</td>\n",
              "      <td>2018</td>\n",
              "      <td>52000.0</td>\n",
              "      <td>180.0</td>\n",
              "      <td>1368.0</td>\n",
              "      <td>Gasoline</td>\n",
              "      <td>Automatic</td>\n",
              "      <td>small_cars</td>\n",
              "      <td>3.0</td>\n",
              "      <td>silver</td>\n",
              "      <td>03/05/2021</td>\n",
              "      <td>Warszawa, Mazowieckie, Białołęka</td>\n",
              "      <td>['ABS', 'Electric front windows', 'Drivers air...</td>\n",
              "    </tr>\n",
              "    <tr>\n",
              "      <th>3</th>\n",
              "      <td>3</td>\n",
              "      <td>39900</td>\n",
              "      <td>PLN</td>\n",
              "      <td>Used</td>\n",
              "      <td>Abarth</td>\n",
              "      <td>500</td>\n",
              "      <td>2012</td>\n",
              "      <td>29000.0</td>\n",
              "      <td>160.0</td>\n",
              "      <td>1368.0</td>\n",
              "      <td>Gasoline</td>\n",
              "      <td>Manual</td>\n",
              "      <td>small_cars</td>\n",
              "      <td>3.0</td>\n",
              "      <td>gray</td>\n",
              "      <td>30/04/2021</td>\n",
              "      <td>Jaworzno, Śląskie</td>\n",
              "      <td>['ABS', 'Electric front windows', 'Drivers air...</td>\n",
              "    </tr>\n",
              "    <tr>\n",
              "      <th>4</th>\n",
              "      <td>4</td>\n",
              "      <td>97900</td>\n",
              "      <td>PLN</td>\n",
              "      <td>New</td>\n",
              "      <td>Abarth</td>\n",
              "      <td>595</td>\n",
              "      <td>2021</td>\n",
              "      <td>600.0</td>\n",
              "      <td>165.0</td>\n",
              "      <td>1368.0</td>\n",
              "      <td>Gasoline</td>\n",
              "      <td>Manual</td>\n",
              "      <td>small_cars</td>\n",
              "      <td>3.0</td>\n",
              "      <td>blue</td>\n",
              "      <td>30/04/2021</td>\n",
              "      <td>ul. Gorzysława 9 - 61-057 Poznań, Nowe Miasto ...</td>\n",
              "      <td>['ABS', 'Electrically adjustable mirrors', 'Pa...</td>\n",
              "    </tr>\n",
              "    <tr>\n",
              "      <th>...</th>\n",
              "      <td>...</td>\n",
              "      <td>...</td>\n",
              "      <td>...</td>\n",
              "      <td>...</td>\n",
              "      <td>...</td>\n",
              "      <td>...</td>\n",
              "      <td>...</td>\n",
              "      <td>...</td>\n",
              "      <td>...</td>\n",
              "      <td>...</td>\n",
              "      <td>...</td>\n",
              "      <td>...</td>\n",
              "      <td>...</td>\n",
              "      <td>...</td>\n",
              "      <td>...</td>\n",
              "      <td>...</td>\n",
              "      <td>...</td>\n",
              "      <td>...</td>\n",
              "    </tr>\n",
              "    <tr>\n",
              "      <th>208299</th>\n",
              "      <td>208299</td>\n",
              "      <td>39900</td>\n",
              "      <td>PLN</td>\n",
              "      <td>Used</td>\n",
              "      <td>Żuk</td>\n",
              "      <td>Other</td>\n",
              "      <td>2014</td>\n",
              "      <td>40000.0</td>\n",
              "      <td>173.0</td>\n",
              "      <td>1301.0</td>\n",
              "      <td>Gasoline</td>\n",
              "      <td>Manual</td>\n",
              "      <td>small_cars</td>\n",
              "      <td>1.0</td>\n",
              "      <td>other</td>\n",
              "      <td>30/04/2021</td>\n",
              "      <td>ul. Huzarska 12 - 47-400 Racibórz, raciborski,...</td>\n",
              "      <td>[]</td>\n",
              "    </tr>\n",
              "    <tr>\n",
              "      <th>208300</th>\n",
              "      <td>208300</td>\n",
              "      <td>10900</td>\n",
              "      <td>PLN</td>\n",
              "      <td>Used</td>\n",
              "      <td>Żuk</td>\n",
              "      <td>Other</td>\n",
              "      <td>1970</td>\n",
              "      <td>63518.0</td>\n",
              "      <td>70.0</td>\n",
              "      <td>2120.0</td>\n",
              "      <td>Gasoline</td>\n",
              "      <td>Manual</td>\n",
              "      <td>station_wagon</td>\n",
              "      <td>4.0</td>\n",
              "      <td>other</td>\n",
              "      <td>02/05/2021</td>\n",
              "      <td>Włocławek, Kujawsko-pomorskie</td>\n",
              "      <td>[]</td>\n",
              "    </tr>\n",
              "    <tr>\n",
              "      <th>208301</th>\n",
              "      <td>208301</td>\n",
              "      <td>6900</td>\n",
              "      <td>PLN</td>\n",
              "      <td>Used</td>\n",
              "      <td>Żuk</td>\n",
              "      <td>Other</td>\n",
              "      <td>1977</td>\n",
              "      <td>11880.0</td>\n",
              "      <td>60.0</td>\n",
              "      <td>2120.0</td>\n",
              "      <td>Gasoline</td>\n",
              "      <td>Manual</td>\n",
              "      <td>SUV</td>\n",
              "      <td>3.0</td>\n",
              "      <td>red</td>\n",
              "      <td>28/04/2021</td>\n",
              "      <td>Złotów, złotowski, Wielkopolskie</td>\n",
              "      <td>[]</td>\n",
              "    </tr>\n",
              "    <tr>\n",
              "      <th>208302</th>\n",
              "      <td>208302</td>\n",
              "      <td>5700</td>\n",
              "      <td>PLN</td>\n",
              "      <td>Used</td>\n",
              "      <td>Żuk</td>\n",
              "      <td>Other</td>\n",
              "      <td>1986</td>\n",
              "      <td>100000.0</td>\n",
              "      <td>36.0</td>\n",
              "      <td>2200.0</td>\n",
              "      <td>Gasoline</td>\n",
              "      <td>Manual</td>\n",
              "      <td>minivan</td>\n",
              "      <td>2.0</td>\n",
              "      <td>blue</td>\n",
              "      <td>24/04/2021</td>\n",
              "      <td>Kraczkowa, łańcucki, Podkarpackie</td>\n",
              "      <td>[]</td>\n",
              "    </tr>\n",
              "    <tr>\n",
              "      <th>208303</th>\n",
              "      <td>208303</td>\n",
              "      <td>11900</td>\n",
              "      <td>PLN</td>\n",
              "      <td>Used</td>\n",
              "      <td>Żuk</td>\n",
              "      <td>Other</td>\n",
              "      <td>1985</td>\n",
              "      <td>20056.0</td>\n",
              "      <td>70.0</td>\n",
              "      <td>2120.0</td>\n",
              "      <td>Gasoline</td>\n",
              "      <td>Manual</td>\n",
              "      <td>minivan</td>\n",
              "      <td>3.0</td>\n",
              "      <td>red</td>\n",
              "      <td>04/05/2021</td>\n",
              "      <td>Szczecińska 40 - 75-137 Koszalin, Zachodniopom...</td>\n",
              "      <td>[]</td>\n",
              "    </tr>\n",
              "  </tbody>\n",
              "</table>\n",
              "<p>185009 rows × 18 columns</p>\n",
              "</div>\n",
              "      <button class=\"colab-df-convert\" onclick=\"convertToInteractive('df-14283b2b-d590-4864-b6cf-3c2e6b89d484')\"\n",
              "              title=\"Convert this dataframe to an interactive table.\"\n",
              "              style=\"display:none;\">\n",
              "        \n",
              "  <svg xmlns=\"http://www.w3.org/2000/svg\" height=\"24px\"viewBox=\"0 0 24 24\"\n",
              "       width=\"24px\">\n",
              "    <path d=\"M0 0h24v24H0V0z\" fill=\"none\"/>\n",
              "    <path d=\"M18.56 5.44l.94 2.06.94-2.06 2.06-.94-2.06-.94-.94-2.06-.94 2.06-2.06.94zm-11 1L8.5 8.5l.94-2.06 2.06-.94-2.06-.94L8.5 2.5l-.94 2.06-2.06.94zm10 10l.94 2.06.94-2.06 2.06-.94-2.06-.94-.94-2.06-.94 2.06-2.06.94z\"/><path d=\"M17.41 7.96l-1.37-1.37c-.4-.4-.92-.59-1.43-.59-.52 0-1.04.2-1.43.59L10.3 9.45l-7.72 7.72c-.78.78-.78 2.05 0 2.83L4 21.41c.39.39.9.59 1.41.59.51 0 1.02-.2 1.41-.59l7.78-7.78 2.81-2.81c.8-.78.8-2.07 0-2.86zM5.41 20L4 18.59l7.72-7.72 1.47 1.35L5.41 20z\"/>\n",
              "  </svg>\n",
              "      </button>\n",
              "      \n",
              "  <style>\n",
              "    .colab-df-container {\n",
              "      display:flex;\n",
              "      flex-wrap:wrap;\n",
              "      gap: 12px;\n",
              "    }\n",
              "\n",
              "    .colab-df-convert {\n",
              "      background-color: #E8F0FE;\n",
              "      border: none;\n",
              "      border-radius: 50%;\n",
              "      cursor: pointer;\n",
              "      display: none;\n",
              "      fill: #1967D2;\n",
              "      height: 32px;\n",
              "      padding: 0 0 0 0;\n",
              "      width: 32px;\n",
              "    }\n",
              "\n",
              "    .colab-df-convert:hover {\n",
              "      background-color: #E2EBFA;\n",
              "      box-shadow: 0px 1px 2px rgba(60, 64, 67, 0.3), 0px 1px 3px 1px rgba(60, 64, 67, 0.15);\n",
              "      fill: #174EA6;\n",
              "    }\n",
              "\n",
              "    [theme=dark] .colab-df-convert {\n",
              "      background-color: #3B4455;\n",
              "      fill: #D2E3FC;\n",
              "    }\n",
              "\n",
              "    [theme=dark] .colab-df-convert:hover {\n",
              "      background-color: #434B5C;\n",
              "      box-shadow: 0px 1px 3px 1px rgba(0, 0, 0, 0.15);\n",
              "      filter: drop-shadow(0px 1px 2px rgba(0, 0, 0, 0.3));\n",
              "      fill: #FFFFFF;\n",
              "    }\n",
              "  </style>\n",
              "\n",
              "      <script>\n",
              "        const buttonEl =\n",
              "          document.querySelector('#df-14283b2b-d590-4864-b6cf-3c2e6b89d484 button.colab-df-convert');\n",
              "        buttonEl.style.display =\n",
              "          google.colab.kernel.accessAllowed ? 'block' : 'none';\n",
              "\n",
              "        async function convertToInteractive(key) {\n",
              "          const element = document.querySelector('#df-14283b2b-d590-4864-b6cf-3c2e6b89d484');\n",
              "          const dataTable =\n",
              "            await google.colab.kernel.invokeFunction('convertToInteractive',\n",
              "                                                     [key], {});\n",
              "          if (!dataTable) return;\n",
              "\n",
              "          const docLinkHtml = 'Like what you see? Visit the ' +\n",
              "            '<a target=\"_blank\" href=https://colab.research.google.com/notebooks/data_table.ipynb>data table notebook</a>'\n",
              "            + ' to learn more about interactive tables.';\n",
              "          element.innerHTML = '';\n",
              "          dataTable['output_type'] = 'display_data';\n",
              "          await google.colab.output.renderOutput(dataTable, element);\n",
              "          const docLink = document.createElement('div');\n",
              "          docLink.innerHTML = docLinkHtml;\n",
              "          element.appendChild(docLink);\n",
              "        }\n",
              "      </script>\n",
              "    </div>\n",
              "  </div>\n",
              "  "
            ]
          },
          "metadata": {},
          "execution_count": 20
        }
      ]
    },
    {
      "cell_type": "code",
      "source": [
        "#box-plot after removing outliers\n",
        "sns.boxplot(x=df['Displacement_cm3'])\n"
      ],
      "metadata": {
        "colab": {
          "base_uri": "https://localhost:8080/",
          "height": 297
        },
        "id": "ipULxl4dMxuB",
        "outputId": "b63266a4-765b-4473-f8b9-5653a8f7b5dc"
      },
      "execution_count": 21,
      "outputs": [
        {
          "output_type": "execute_result",
          "data": {
            "text/plain": [
              "<matplotlib.axes._subplots.AxesSubplot at 0x7ff1b31ccc50>"
            ]
          },
          "metadata": {},
          "execution_count": 21
        },
        {
          "output_type": "display_data",
          "data": {
            "text/plain": [
              "<Figure size 432x288 with 1 Axes>"
            ],
            "image/png": "[encoded data removed]"
          },
          "metadata": {
            "needs_background": "light"
          }
        }
      ]
    },
    {
      "cell_type": "markdown",
      "source": [
        "*******************************************************"
      ],
      "metadata": {
        "id": "zMR-sBEjQYp9"
      }
    },
    {
      "cell_type": "code",
      "source": [
        "# here we filled in the missing values using the mode as this is a categorcal variable\n",
        "\n",
        "df['Transmission'] = df['Transmission'].fillna(df['Transmission'].mode()[0])\n"
      ],
      "metadata": {
        "colab": {
          "base_uri": "https://localhost:8080/"
        },
        "id": "sESXh_LOM2P9",
        "outputId": "1adc05ab-d929-486a-ac4e-6d1975a4a123"
      },
      "execution_count": 22,
      "outputs": [
        {
          "output_type": "stream",
          "name": "stderr",
          "text": [
            "/usr/local/lib/python3.7/dist-packages/ipykernel_launcher.py:1: SettingWithCopyWarning: \n",
            "A value is trying to be set on a copy of a slice from a DataFrame.\n",
            "Try using .loc[row_indexer,col_indexer] = value instead\n",
            "\n",
            "See the caveats in the documentation: https://pandas.pydata.org/pandas-docs/stable/user_guide/indexing.html#returning-a-view-versus-a-copy\n",
            "  \"\"\"Entry point for launching an IPython kernel.\n"
          ]
        }
      ]
    },
    {
      "cell_type": "code",
      "source": [
        "df.isnull().sum()"
      ],
      "metadata": {
        "colab": {
          "base_uri": "https://localhost:8080/"
        },
        "id": "mzgtTFRiM2et",
        "outputId": "035790ce-fa68-4e99-eddc-d84afd891a3f"
      },
      "execution_count": 25,
      "outputs": [
        {
          "output_type": "execute_result",
          "data": {
            "text/plain": [
              "Index                        0\n",
              "Price                        0\n",
              "Currency                     0\n",
              "Condition                    0\n",
              "Vehicle_brand                0\n",
              "Vehicle_model                0\n",
              "Production_year              0\n",
              "Mileage_km                 793\n",
              "Power_HP                   609\n",
              "Displacement_cm3          1652\n",
              "Fuel_type                    0\n",
              "Transmission                 0\n",
              "Type                         0\n",
              "Doors_number              1286\n",
              "Colour                       0\n",
              "Offer_publication_date       0\n",
              "Offer_location               0\n",
              "Features                     0\n",
              "dtype: int64"
            ]
          },
          "metadata": {},
          "execution_count": 25
        }
      ]
    },
    {
      "cell_type": "code",
      "source": [
        "#fill the missing values for numerical terms - mean(Continous Variables) - after removing outliers\n",
        "df['Power_HP'] = df['Power_HP'].fillna(df['Power_HP'].mean())\n",
        "df['Displacement_cm3'] = df['Displacement_cm3'].fillna(df['Displacement_cm3'].mean())\n",
        "df['Doors_number'] = df['Doors_number'].fillna(df['Doors_number'].mean())"
      ],
      "metadata": {
        "colab": {
          "base_uri": "https://localhost:8080/"
        },
        "id": "r1XHFrO7OPjo",
        "outputId": "11f8072a-6cb2-4af4-f4f0-bc8708512f12"
      },
      "execution_count": 26,
      "outputs": [
        {
          "output_type": "stream",
          "name": "stderr",
          "text": [
            "/usr/local/lib/python3.7/dist-packages/ipykernel_launcher.py:2: SettingWithCopyWarning: \n",
            "A value is trying to be set on a copy of a slice from a DataFrame.\n",
            "Try using .loc[row_indexer,col_indexer] = value instead\n",
            "\n",
            "See the caveats in the documentation: https://pandas.pydata.org/pandas-docs/stable/user_guide/indexing.html#returning-a-view-versus-a-copy\n",
            "  \n",
            "/usr/local/lib/python3.7/dist-packages/ipykernel_launcher.py:3: SettingWithCopyWarning: \n",
            "A value is trying to be set on a copy of a slice from a DataFrame.\n",
            "Try using .loc[row_indexer,col_indexer] = value instead\n",
            "\n",
            "See the caveats in the documentation: https://pandas.pydata.org/pandas-docs/stable/user_guide/indexing.html#returning-a-view-versus-a-copy\n",
            "  This is separate from the ipykernel package so we can avoid doing imports until\n",
            "/usr/local/lib/python3.7/dist-packages/ipykernel_launcher.py:4: SettingWithCopyWarning: \n",
            "A value is trying to be set on a copy of a slice from a DataFrame.\n",
            "Try using .loc[row_indexer,col_indexer] = value instead\n",
            "\n",
            "See the caveats in the documentation: https://pandas.pydata.org/pandas-docs/stable/user_guide/indexing.html#returning-a-view-versus-a-copy\n",
            "  after removing the cwd from sys.path.\n"
          ]
        }
      ]
    },
    {
      "cell_type": "code",
      "source": [
        "# Here we selected the not null rows and put them in the dataframe\n",
        "\n",
        "df = df[df['Mileage_km'].notna()]\n"
      ],
      "metadata": {
        "id": "cWtZPt8aOYX9"
      },
      "execution_count": 29,
      "outputs": []
    },
    {
      "cell_type": "code",
      "source": [
        "df.isnull().sum()"
      ],
      "metadata": {
        "colab": {
          "base_uri": "https://localhost:8080/"
        },
        "id": "PzuXweNuOVyt",
        "outputId": "1a6583b0-30fd-41ab-f834-d8f138bef25a"
      },
      "execution_count": 31,
      "outputs": [
        {
          "output_type": "execute_result",
          "data": {
            "text/plain": [
              "Index                     0\n",
              "Price                     0\n",
              "Currency                  0\n",
              "Condition                 0\n",
              "Vehicle_brand             0\n",
              "Vehicle_model             0\n",
              "Production_year           0\n",
              "Mileage_km                0\n",
              "Power_HP                  0\n",
              "Displacement_cm3          0\n",
              "Fuel_type                 0\n",
              "Transmission              0\n",
              "Type                      0\n",
              "Doors_number              0\n",
              "Colour                    0\n",
              "Offer_publication_date    0\n",
              "Offer_location            0\n",
              "Features                  0\n",
              "dtype: int64"
            ]
          },
          "metadata": {},
          "execution_count": 31
        }
      ]
    },
    {
      "cell_type": "markdown",
      "source": [
        "**Data Visulization**"
      ],
      "metadata": {
        "id": "C8mSM6KARObh"
      }
    },
    {
      "cell_type": "code",
      "source": [],
      "metadata": {
        "id": "hut-RUYoPAmy"
      },
      "execution_count": null,
      "outputs": []
    }
  ]
}